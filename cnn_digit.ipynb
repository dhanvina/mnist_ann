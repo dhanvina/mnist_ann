{
  "nbformat": 4,
  "nbformat_minor": 0,
  "metadata": {
    "colab": {
      "provenance": [],
      "authorship_tag": "ABX9TyNTtK/CGIN6U2DbsZt048IY",
      "include_colab_link": true
    },
    "kernelspec": {
      "name": "python3",
      "display_name": "Python 3"
    },
    "language_info": {
      "name": "python"
    },
    "accelerator": "GPU",
    "gpuClass": "standard"
  },
  "cells": [
    {
      "cell_type": "markdown",
      "metadata": {
        "id": "view-in-github",
        "colab_type": "text"
      },
      "source": [
        "<a href=\"https://colab.research.google.com/github/dhanvina/mnist_ann/blob/main/cnn_digit.ipynb\" target=\"_parent\"><img src=\"https://colab.research.google.com/assets/colab-badge.svg\" alt=\"Open In Colab\"/></a>"
      ]
    },
    {
      "cell_type": "markdown",
      "source": [
        "#**Classification of Handwritten Digits Using CNN**"
      ],
      "metadata": {
        "id": "buqhzlcP8irR"
      }
    },
    {
      "cell_type": "markdown",
      "source": [
        "![](https://tse2.mm.bing.net/th?id=OIP.kuGivytghMxk7urE0NybawHaCc&pid=Api&P=0)"
      ],
      "metadata": {
        "id": "xYYbe4TRs8iA"
      }
    },
    {
      "cell_type": "markdown",
      "source": [
        "![](http://cs231n.github.io/assets/cnn/convnet.jpeg)"
      ],
      "metadata": {
        "id": "SWjyTJIZt5Nv"
      }
    },
    {
      "cell_type": "markdown",
      "source": [
        "![](https://www.upgrad.com/blog/wp-content/uploads/2020/12/1-4.png)"
      ],
      "metadata": {
        "id": "ORhIHE6Zr_Fw"
      }
    },
    {
      "cell_type": "code",
      "source": [
        "import tensorflow as tf\n",
        "import matplotlib.pyplot as plt\n",
        "import numpy as np\n",
        "from tensorflow.keras.models import Sequential\n",
        "from tensorflow.keras.layers import Dense, Dropout , Activation, Flatten , Conv2D, MaxPooling2D"
      ],
      "metadata": {
        "id": "9OITNUuO84Ul"
      },
      "execution_count": 2,
      "outputs": []
    },
    {
      "cell_type": "code",
      "source": [
        "mnist = tf.keras.datasets.mnist\n",
        "(x_train, y_train),(x_test , y_test) = mnist.load_data()\n",
        "print(x_train.shape)\n",
        "print(x_test.shape)\n",
        "print(y_train.shape)\n",
        "print(y_test.shape)"
      ],
      "metadata": {
        "colab": {
          "base_uri": "https://localhost:8080/"
        },
        "id": "AjgGUe7k9LSy",
        "outputId": "c6624294-f03e-4eb4-f98e-b15229f2602d"
      },
      "execution_count": 3,
      "outputs": [
        {
          "output_type": "stream",
          "name": "stdout",
          "text": [
            "Downloading data from https://storage.googleapis.com/tensorflow/tf-keras-datasets/mnist.npz\n",
            "11490434/11490434 [==============================] - 0s 0us/step\n",
            "(60000, 28, 28)\n",
            "(10000, 28, 28)\n",
            "(60000,)\n",
            "(10000,)\n"
          ]
        }
      ]
    },
    {
      "cell_type": "markdown",
      "source": [
        "The first dimension of the shape, i.e., 60000, represents the number of images in the dataset. The second and third dimensions, i.e., 28 and 28 respectively, represent the height and width of each image in pixels\\\n",
        "(60000, 28, 28) --> Training data\\\n",
        "(10000, 28, 28) --> Testing data"
      ],
      "metadata": {
        "id": "bJG-BbNL-KsY"
      }
    },
    {
      "cell_type": "code",
      "source": [
        "# normalizes the pixel values in the training set x_train and x_test\n",
        "# Normalization scales the values of the input features between 0 and 1\n",
        "x_train = tf.keras.utils.normalize(x_train , axis = 1)\n",
        "x_test = tf.keras.utils.normalize(x_test , axis = 1)"
      ],
      "metadata": {
        "id": "x7PMd_cYDB8e"
      },
      "execution_count": 4,
      "outputs": []
    },
    {
      "cell_type": "code",
      "source": [
        "# Resizing the image to 28*28\n",
        "img_size = 28\n",
        "x_trainer = np.array(x_train).reshape(-1,img_size,img_size,1)\n",
        "x_tester = np.array(x_test).reshape(-1,img_size,img_size,1)\n",
        "print('Training shape' , x_trainer.shape)\n",
        "print('Testing shape' , x_tester.shape)"
      ],
      "metadata": {
        "colab": {
          "base_uri": "https://localhost:8080/"
        },
        "id": "aoCC11mkDU0W",
        "outputId": "ff06a6f0-b7e6-495f-ffca-a9be7f530d4c"
      },
      "execution_count": 5,
      "outputs": [
        {
          "output_type": "stream",
          "name": "stdout",
          "text": [
            "Training shape (60000, 28, 28, 1)\n",
            "Testing shape (10000, 28, 28, 1)\n"
          ]
        }
      ]
    },
    {
      "cell_type": "code",
      "source": [
        "model = Sequential()"
      ],
      "metadata": {
        "id": "blEZsTzWEmIf"
      },
      "execution_count": 6,
      "outputs": []
    },
    {
      "cell_type": "markdown",
      "source": [
        "The Sequential model is a linear stack of layers"
      ],
      "metadata": {
        "id": "00JxjkUyEvCe"
      }
    },
    {
      "cell_type": "code",
      "source": [
        "model.add(Conv2D(32 , (3,3) , activation = 'relu' , input_shape= x_trainer.shape[1:]))"
      ],
      "metadata": {
        "id": "Y3ImuZxME8U3"
      },
      "execution_count": 7,
      "outputs": []
    },
    {
      "cell_type": "markdown",
      "source": [
        "Once you have a Sequential model object, you can add layers to it using the \n",
        "model.add()\\\n",
        "A 2D convolutional layer, defined by the Conv2D \\\n",
        "The layer applies a set of convolution filters (also known as kernels) to the input image, sliding the filters over the image to produce a set of feature maps that capture different patterns or features in the image.\n",
        "\n",
        "* 32: The number of filters in the layer.\n",
        "* (3,3): The size of the convolution filter.\n",
        "* activation='relu': The activation function.Rectified Linear Unit (ReLU) activation function, which is a commonly used non-linearity in deep learning models.\n",
        "* Input shape: shape of the image.\n",
        "\n",
        "\n",
        "\n"
      ],
      "metadata": {
        "id": "--eP1fROFuWY"
      }
    },
    {
      "cell_type": "code",
      "source": [
        "model.add(Conv2D(64 , (3,3) , activation = 'relu'))"
      ],
      "metadata": {
        "id": "m6Zw2KorHx9J"
      },
      "execution_count": 8,
      "outputs": []
    },
    {
      "cell_type": "markdown",
      "source": [
        "Add a second 2D convolutional layer to the model.\n",
        "\n",
        "\n",
        "*   64: The number of filters in the layer.\n",
        "\n",
        "\n"
      ],
      "metadata": {
        "id": "-NngxCQZH1WO"
      }
    },
    {
      "cell_type": "code",
      "source": [
        "model.add(MaxPooling2D((2,2)))"
      ],
      "metadata": {
        "id": "MO4y4yz7IXG8"
      },
      "execution_count": 9,
      "outputs": []
    },
    {
      "cell_type": "markdown",
      "source": [
        "Add a max pooling layer to the model\\\n",
        "**Max pooling** is a type of operation that is often used in *convolutional neural networks* (CNNs) to reduce the spatial dimensions of the feature maps produced by the convolutional layers, while retaining the most important features in the feature maps. This can help to reduce the number of parameters in the model and prevent overfitting\\\n",
        "(2,2): The size of the max pooling window. This specifies the amount of downsampling to be applied to the input feature maps."
      ],
      "metadata": {
        "id": "5CaUMFCOIYXB"
      }
    },
    {
      "cell_type": "code",
      "source": [
        "model.add(Dropout(0.25))"
      ],
      "metadata": {
        "id": "TRQ8ka22Jgsr"
      },
      "execution_count": 10,
      "outputs": []
    },
    {
      "cell_type": "markdown",
      "source": [
        "Add a dropout layer to the model\\\n",
        "Dropout is a regularization technique that is often used in deep learning models to prevent overfitting\\\n",
        "0.25: The dropout rate. This specifies the fraction of the input units to drop."
      ],
      "metadata": {
        "id": "ASWpg6XfJiVn"
      }
    },
    {
      "cell_type": "code",
      "source": [
        "model.add(Flatten())"
      ],
      "metadata": {
        "id": "veZfimUmKKND"
      },
      "execution_count": 11,
      "outputs": []
    },
    {
      "cell_type": "markdown",
      "source": [
        "Add a flatten layer to the model\\\n",
        "Flatten layer is used to convert the 3D tensor of feature maps produced by the convolutional and pooling layers into a 1D vector of features that can be input to a fully connected layer"
      ],
      "metadata": {
        "id": "JPAlbDiCKKbP"
      }
    },
    {
      "cell_type": "code",
      "source": [
        "model.add(Dense(256, activation = 'relu'))"
      ],
      "metadata": {
        "id": "xep4UH8EK0a2"
      },
      "execution_count": 12,
      "outputs": []
    },
    {
      "cell_type": "markdown",
      "source": [
        "Add a fully connected layer with 256 units and ReLU activation to the model\\\n",
        "Fully connected layers are also known as dense layers, and they are a type of layer in which every input unit is connected to every output unit\\\n",
        "256: The number of units in the layer"
      ],
      "metadata": {
        "id": "RCv0_wSTK92-"
      }
    },
    {
      "cell_type": "code",
      "source": [
        "model.add(Dropout(0.5))\n",
        "model.add(Dense(10, activation = 'softmax'))"
      ],
      "metadata": {
        "id": "n2TCus6PLV4h"
      },
      "execution_count": 13,
      "outputs": []
    },
    {
      "cell_type": "markdown",
      "source": [
        "50% of the data dropout rate and FC layer with 10 units and softmax activation to the model"
      ],
      "metadata": {
        "id": "3VQO6iDIl8kK"
      }
    },
    {
      "cell_type": "code",
      "source": [
        "model.summary()"
      ],
      "metadata": {
        "colab": {
          "base_uri": "https://localhost:8080/"
        },
        "id": "L3M3X0Femb_w",
        "outputId": "17fac89c-7131-40fc-c5d7-3b0bd61e4d26"
      },
      "execution_count": 14,
      "outputs": [
        {
          "output_type": "stream",
          "name": "stdout",
          "text": [
            "Model: \"sequential\"\n",
            "_________________________________________________________________\n",
            " Layer (type)                Output Shape              Param #   \n",
            "=================================================================\n",
            " conv2d (Conv2D)             (None, 26, 26, 32)        320       \n",
            "                                                                 \n",
            " conv2d_1 (Conv2D)           (None, 24, 24, 64)        18496     \n",
            "                                                                 \n",
            " max_pooling2d (MaxPooling2D  (None, 12, 12, 64)       0         \n",
            " )                                                               \n",
            "                                                                 \n",
            " dropout (Dropout)           (None, 12, 12, 64)        0         \n",
            "                                                                 \n",
            " flatten (Flatten)           (None, 9216)              0         \n",
            "                                                                 \n",
            " dense (Dense)               (None, 256)               2359552   \n",
            "                                                                 \n",
            " dropout_1 (Dropout)         (None, 256)               0         \n",
            "                                                                 \n",
            " dense_1 (Dense)             (None, 10)                2570      \n",
            "                                                                 \n",
            "=================================================================\n",
            "Total params: 2,380,938\n",
            "Trainable params: 2,380,938\n",
            "Non-trainable params: 0\n",
            "_________________________________________________________________\n"
          ]
        }
      ]
    },
    {
      "cell_type": "markdown",
      "source": [
        "Display summary of the layers"
      ],
      "metadata": {
        "id": "3SeB5tzzmibg"
      }
    },
    {
      "cell_type": "code",
      "source": [
        "model.compile(optimizer = 'adam' , loss = 'sparse_categorical_crossentropy' , metrics = ['accuracy'])"
      ],
      "metadata": {
        "id": "l1Xf1b5VnRgl"
      },
      "execution_count": 17,
      "outputs": []
    },
    {
      "cell_type": "markdown",
      "source": [
        "**optimizer**: The optimizer is the algorithm that updates the weights of the model based on the gradients of the loss function with respect to the weights\\\n",
        "**loss**: The loss function is used to measure the difference between the true values of the labels and the predicted values output by the model\\\n",
        "**metrics**: The metrics argument is used to specify the evaluation metrics to be used during training and testing."
      ],
      "metadata": {
        "id": "MO9AaeCYnVSh"
      }
    },
    {
      "cell_type": "code",
      "source": [
        "model.fit(x_trainer,y_train, epochs = 10 , validation_split = 0.3 , batch_size = 128,verbose=1)"
      ],
      "metadata": {
        "colab": {
          "base_uri": "https://localhost:8080/"
        },
        "id": "B__HFWkCnX43",
        "outputId": "7abcee9d-1b35-403c-9d1a-6c8dcfc1665d"
      },
      "execution_count": 18,
      "outputs": [
        {
          "output_type": "stream",
          "name": "stdout",
          "text": [
            "Epoch 1/10\n",
            "329/329 [==============================] - 4s 8ms/step - loss: 0.0556 - accuracy: 0.9820 - val_loss: 0.0527 - val_accuracy: 0.9841\n",
            "Epoch 2/10\n",
            "329/329 [==============================] - 3s 8ms/step - loss: 0.0526 - accuracy: 0.9838 - val_loss: 0.0510 - val_accuracy: 0.9848\n",
            "Epoch 3/10\n",
            "329/329 [==============================] - 3s 8ms/step - loss: 0.0482 - accuracy: 0.9850 - val_loss: 0.0470 - val_accuracy: 0.9864\n",
            "Epoch 4/10\n",
            "329/329 [==============================] - 2s 7ms/step - loss: 0.0436 - accuracy: 0.9865 - val_loss: 0.0514 - val_accuracy: 0.9851\n",
            "Epoch 5/10\n",
            "329/329 [==============================] - 2s 7ms/step - loss: 0.0424 - accuracy: 0.9866 - val_loss: 0.0522 - val_accuracy: 0.9852\n",
            "Epoch 6/10\n",
            "329/329 [==============================] - 3s 8ms/step - loss: 0.0381 - accuracy: 0.9881 - val_loss: 0.0460 - val_accuracy: 0.9866\n",
            "Epoch 7/10\n",
            "329/329 [==============================] - 2s 7ms/step - loss: 0.0353 - accuracy: 0.9890 - val_loss: 0.0434 - val_accuracy: 0.9877\n",
            "Epoch 8/10\n",
            "329/329 [==============================] - 3s 8ms/step - loss: 0.0327 - accuracy: 0.9895 - val_loss: 0.0443 - val_accuracy: 0.9877\n",
            "Epoch 9/10\n",
            "329/329 [==============================] - 2s 7ms/step - loss: 0.0324 - accuracy: 0.9895 - val_loss: 0.0509 - val_accuracy: 0.9854\n",
            "Epoch 10/10\n",
            "329/329 [==============================] - 2s 7ms/step - loss: 0.0304 - accuracy: 0.9897 - val_loss: 0.0502 - val_accuracy: 0.9867\n"
          ]
        },
        {
          "output_type": "execute_result",
          "data": {
            "text/plain": [
              "<keras.callbacks.History at 0x7fed29153b20>"
            ]
          },
          "metadata": {},
          "execution_count": 18
        }
      ]
    },
    {
      "cell_type": "markdown",
      "source": [
        "Method that is used to train the model\\\n",
        "**x_train**: the input data (in this case, the MNIST images)\\\n",
        "**y_train**: the target labels \\\n",
        "**epochs**: the number of times to iterate over the entire training dataset during training\\\n",
        "**validation_split**: the fraction of the training data to use for validation\\\n",
        "**batch_size**: the number of samples in each batch\\\n",
        "**verbose**: used to control how much output is displayed during model training. It takes an integer value that can be set to 0, 1, or 2.\\\n",
        "verbose=0: No output is printed during training.\\\n",
        "verbose=1: Displays progress bar and information about the number of epochs and the time taken for each epoch.\\\n",
        "verbose=2: Displays one line per epoch, showing the loss and any specified metrics."
      ],
      "metadata": {
        "id": "MDTtBZhFnbew"
      }
    },
    {
      "cell_type": "code",
      "source": [
        "test_loss, test_acc = model.evaluate(x_tester, y_test)"
      ],
      "metadata": {
        "colab": {
          "base_uri": "https://localhost:8080/"
        },
        "id": "ee9NZqHNpy5x",
        "outputId": "bed72c12-ac05-4a3f-b0df-93dbe1a2779c"
      },
      "execution_count": 19,
      "outputs": [
        {
          "output_type": "stream",
          "name": "stdout",
          "text": [
            "313/313 [==============================] - 1s 3ms/step - loss: 0.0439 - accuracy: 0.9889\n"
          ]
        }
      ]
    },
    {
      "cell_type": "code",
      "source": [
        "test_loss"
      ],
      "metadata": {
        "colab": {
          "base_uri": "https://localhost:8080/"
        },
        "id": "fuvzK8FCqJxQ",
        "outputId": "71ae8f45-e09c-4892-e663-def8258c5dbe"
      },
      "execution_count": 20,
      "outputs": [
        {
          "output_type": "execute_result",
          "data": {
            "text/plain": [
              "0.043899137526750565"
            ]
          },
          "metadata": {},
          "execution_count": 20
        }
      ]
    },
    {
      "cell_type": "code",
      "source": [
        "test_acc"
      ],
      "metadata": {
        "colab": {
          "base_uri": "https://localhost:8080/"
        },
        "id": "7AYZKrIgqM3E",
        "outputId": "5c6a1bc1-c2fc-440c-f64e-813e6ebb9ac5"
      },
      "execution_count": 21,
      "outputs": [
        {
          "output_type": "execute_result",
          "data": {
            "text/plain": [
              "0.9889000058174133"
            ]
          },
          "metadata": {},
          "execution_count": 21
        }
      ]
    },
    {
      "cell_type": "markdown",
      "source": [
        "Used to evaluate a trained model on a test dataset."
      ],
      "metadata": {
        "id": "dzBHR7Qfp039"
      }
    },
    {
      "cell_type": "code",
      "execution_count": 22,
      "metadata": {
        "colab": {
          "base_uri": "https://localhost:8080/"
        },
        "id": "hDlbx0nP6oiA",
        "outputId": "e382a27a-5493-4a14-f147-4012a3567f08"
      },
      "outputs": [
        {
          "output_type": "stream",
          "name": "stdout",
          "text": [
            "Test loss on 10,000 test samples 0.043899137526750565\n",
            "Validation Accuracy on 10,000 samples 0.9889000058174133\n"
          ]
        }
      ],
      "source": [
        "print('Test loss on 10,000 test samples' , test_loss)\n",
        "print('Validation Accuracy on 10,000 samples' , test_acc)  "
      ]
    }
  ]
}